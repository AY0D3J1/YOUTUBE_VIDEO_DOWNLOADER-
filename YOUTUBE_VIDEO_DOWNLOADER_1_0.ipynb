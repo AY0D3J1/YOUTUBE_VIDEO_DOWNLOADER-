{
  "cells": [
    {
      "cell_type": "markdown",
      "metadata": {
        "id": "5dJB88vu6Pnn"
      },
      "source": [
        "INSTALLING LIBRARIES"
      ]
    },
    {
      "cell_type": "code",
      "execution_count": null,
      "metadata": {
        "id": "xmYALOyh6MLH"
      },
      "outputs": [],
      "source": [
        "!pip install pytube tqdm\n",
        "!pip install requests\n"
      ]
    },
    {
      "cell_type": "markdown",
      "metadata": {
        "id": "mNnvZPd26uOX"
      },
      "source": [
        "MOUNT DRIVE"
      ]
    },
    {
      "cell_type": "code",
      "execution_count": null,
      "metadata": {
        "id": "zYvSorr06v4y"
      },
      "outputs": [],
      "source": [
        "from google.colab import drive\n",
        "drive.mount(\"/content/drive\")"
      ]
    },
    {
      "cell_type": "markdown",
      "metadata": {
        "id": "P_bUHuU664hZ"
      },
      "source": [
        "CREATE SESSION"
      ]
    },
    {
      "cell_type": "code",
      "execution_count": null,
      "metadata": {
        "id": "Z4UXfc6z66Rv"
      },
      "outputs": [],
      "source": [
        "# Define the YouTube video URL\n",
        "video_url = \"https://www.youtube.com/watch?v=O--cwJTbQoc\"  # Replace with your desired video URL\n",
        "#Define the download path within your Colab environment (change \"downloads\" if needed)\n",
        "download_path = \"/content/drive/MyDrive/Youtube\"\n"
      ]
    },
    {
      "cell_type": "code",
      "execution_count": null,
      "metadata": {
        "id": "b1u7OBu77QeG"
      },
      "outputs": [],
      "source": [
        "# Import libraries\n",
        "import time\n",
        "from IPython.display import display\n",
        "import ipywidgets as widgets\n",
        "from pytube import YouTube\n",
        "import os"
      ]
    },
    {
      "cell_type": "code",
      "execution_count": null,
      "metadata": {
        "id": "ISL_9qdS7uTF"
      },
      "outputs": [],
      "source": [
        "# Function to download the video with progress bar\n",
        "def download_video(url, path):\n",
        "  try:\n",
        "    # Create YouTube object\n",
        "    yt = YouTube(url)\n",
        "\n",
        "    # Extract video title\n",
        "    title = yt.title.replace(\"|\", \"_\")  # Replace special characters for safe naming\n",
        "\n",
        "    # Get the highest resolution stream (adjust as needed)\n",
        "    stream = yt.streams.filter(progressive=True).order_by('resolution').desc().first()\n",
        "\n",
        "    # Create download directory if it doesn't exist\n",
        "    if not os.path.exists(path):\n",
        "      os.makedirs(path)\n",
        "\n",
        "    # Download the video with progress bar\n",
        "    print(f\"Downloading: {title}\")\n",
        "    stream.download(output_path=path, filename=f\"{title}.mp4\")\n",
        "    print(f\"Download complete: {title}\")\n",
        "  except Exception as e:\n",
        "    print(f\"Error downloading {title}: {e}\")"
      ]
    },
    {
      "cell_type": "code",
      "execution_count": null,
      "metadata": {
        "id": "q_hVoxw98KGQ"
      },
      "outputs": [],
      "source": [
        "# Download the video\n",
        "download_video(video_url, download_path)"
      ]
    }
  ],
  "metadata": {
    "colab": {
      "provenance": []
    },
    "kernelspec": {
      "display_name": "Python 3",
      "name": "python3"
    },
    "language_info": {
      "name": "python"
    }
  },
  "nbformat": 4,
  "nbformat_minor": 0
}